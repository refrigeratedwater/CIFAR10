{
  "cells": [
    {
      "cell_type": "code",
      "execution_count": null,
      "metadata": {},
      "outputs": [],
      "source": [
        "import sys\n",
        "sys.path.append('../')"
      ]
    },
    {
      "cell_type": "code",
      "execution_count": 1,
      "metadata": {
        "colab": {
          "base_uri": "https://localhost:8080/"
        },
        "id": "_NGE1hpJgww4",
        "outputId": "94853048-d76a-41f9-96e4-ba3d42590073"
      },
      "outputs": [],
      "source": [
        "import tensorflow as tf\n",
        "\n",
        "(train_images, train_labels), (test_images,\n",
        "                               test_labels) = tf.keras.datasets.cifar10.load_data()\n",
        "\n",
        "class_names = ['airplane', 'automobile', 'bird', 'cat',\n",
        "               'deer', 'dog', 'frog', 'horse', 'ship', 'truck']\n",
        "\n",
        "# Normalize pixel values to be between 0 and 1\n",
        "train_images, test_images = train_images.astype(\n",
        "    'float32') / 255.0, test_images.astype('float32') / 255.0"
      ]
    },
    {
      "cell_type": "code",
      "execution_count": 2,
      "metadata": {
        "colab": {
          "base_uri": "https://localhost:8080/"
        },
        "id": "ymmBYb5ggww7",
        "outputId": "442d3f27-91ae-424e-e3d0-a3476d044d5e"
      },
      "outputs": [
        {
          "name": "stdout",
          "output_type": "stream",
          "text": [
            "313/313 [==============================] - 7s 22ms/step - loss: 0.7166 - accuracy: 0.7550\n",
            "Test Loss: 0.7165738940238953\n",
            "Test Accuracy: 0.7549999952316284\n"
          ]
        }
      ],
      "source": [
        "import pickle\n",
        "\n",
        "model = tf.keras.models.Sequential()\n",
        "\n",
        "# Input layer\n",
        "model.add(tf.keras.layers.Conv2D(128, kernel_size=(\n",
        "    4, 4), padding='same', input_shape=(32, 32, 3)))\n",
        "model.add(tf.keras.layers.LeakyReLU())\n",
        "model.add(tf.keras.layers.MaxPooling2D(pool_size=(2, 2)))\n",
        "model.add(tf.keras.layers.Dropout(0.25))\n",
        "\n",
        "model.add(tf.keras.layers.Conv2D(64, kernel_size=(3, 3), padding='same'))\n",
        "model.add(tf.keras.layers.LeakyReLU())\n",
        "model.add(tf.keras.layers.MaxPooling2D(pool_size=(2, 2)))\n",
        "model.add(tf.keras.layers.Dropout(0.25))\n",
        "\n",
        "model.add(tf.keras.layers.Conv2D(32, kernel_size=(3, 3), padding='same'))\n",
        "model.add(tf.keras.layers.LeakyReLU())\n",
        "model.add(tf.keras.layers.Conv2D(16, kernel_size=(2, 2), padding='same'))\n",
        "model.add(tf.keras.layers.LeakyReLU())\n",
        "model.add(tf.keras.layers.MaxPooling2D(pool_size=(2, 2)))\n",
        "model.add(tf.keras.layers.Dropout(0.25))\n",
        "\n",
        "model.add(tf.keras.layers.Flatten())\n",
        "\n",
        "model.add(tf.keras.layers.LeakyReLU())\n",
        "model.add(tf.keras.layers.Dense(64))\n",
        "model.add(tf.keras.layers.LeakyReLU())\n",
        "model.add(tf.keras.layers.Dense(32))\n",
        "model.add(tf.keras.layers.LeakyReLU())\n",
        "model.add(tf.keras.layers.Dropout(0.5))\n",
        "\n",
        "model.add(tf.keras.layers.Dense(len(class_names), activation='softmax'))\n",
        "\n",
        "model.compile(optimizer='adam',\n",
        "              loss='sparse_categorical_crossentropy', metrics=['accuracy'])\n",
        "# epochs = 100\n",
        "# batch_size = 256\n",
        "# history = model.fit(train_images, train_labels, epochs=epochs, callbacks=tf.keras.callbacks.EarlyStopping(\n",
        "#     monitor='val_loss', patience=5, verbose=2), validation_data=(test_images, test_labels))\n",
        "\n",
        "\n",
        "with open('history.pkl', 'rb') as file:\n",
        "    history = pickle.load(file)\n",
        "\n",
        "model.load_weights('weights.keras')\n",
        "loss, accuracy = model.evaluate(test_images, test_labels)\n",
        "print(f'Test Loss: {loss}')\n",
        "print(f'Test Accuracy: {accuracy}')"
      ]
    },
    {
      "cell_type": "code",
      "execution_count": 3,
      "metadata": {
        "id": "QQkJns_dgww9"
      },
      "outputs": [
        {
          "ename": "ModuleNotFoundError",
          "evalue": "No module named 'plotting'",
          "output_type": "error",
          "traceback": [
            "\u001b[1;31m---------------------------------------------------------------------------\u001b[0m",
            "\u001b[1;31mModuleNotFoundError\u001b[0m                       Traceback (most recent call last)",
            "\u001b[1;32mc:\\Users\\lesetja\\Documents\\North-West University\\Honours\\Second Semester\\ITRI626\\Datasets\\CIFAR10\\models\\model_2\\cifar10_model_2.ipynb Cell 3\u001b[0m line \u001b[0;36m4\n\u001b[0;32m      <a href='vscode-notebook-cell:/c%3A/Users/lesetja/Documents/North-West%20University/Honours/Second%20Semester/ITRI626/Datasets/CIFAR10/models/model_2/cifar10_model_2.ipynb#W2sZmlsZQ%3D%3D?line=0'>1</a>\u001b[0m \u001b[39mfrom\u001b[39;00m \u001b[39msklearn\u001b[39;00m\u001b[39m.\u001b[39;00m\u001b[39mmetrics\u001b[39;00m \u001b[39mimport\u001b[39;00m confusion_matrix, classification_report, cohen_kappa_score\n\u001b[0;32m      <a href='vscode-notebook-cell:/c%3A/Users/lesetja/Documents/North-West%20University/Honours/Second%20Semester/ITRI626/Datasets/CIFAR10/models/model_2/cifar10_model_2.ipynb#W2sZmlsZQ%3D%3D?line=1'>2</a>\u001b[0m \u001b[39mimport\u001b[39;00m \u001b[39mnumpy\u001b[39;00m \u001b[39mas\u001b[39;00m \u001b[39mnp\u001b[39;00m\n\u001b[1;32m----> <a href='vscode-notebook-cell:/c%3A/Users/lesetja/Documents/North-West%20University/Honours/Second%20Semester/ITRI626/Datasets/CIFAR10/models/model_2/cifar10_model_2.ipynb#W2sZmlsZQ%3D%3D?line=3'>4</a>\u001b[0m \u001b[39mfrom\u001b[39;00m \u001b[39mplotting\u001b[39;00m \u001b[39mimport\u001b[39;00m roc_plot, plot_history, cm_plot\n\u001b[0;32m      <a href='vscode-notebook-cell:/c%3A/Users/lesetja/Documents/North-West%20University/Honours/Second%20Semester/ITRI626/Datasets/CIFAR10/models/model_2/cifar10_model_2.ipynb#W2sZmlsZQ%3D%3D?line=5'>6</a>\u001b[0m plot_history(history)\n\u001b[0;32m      <a href='vscode-notebook-cell:/c%3A/Users/lesetja/Documents/North-West%20University/Honours/Second%20Semester/ITRI626/Datasets/CIFAR10/models/model_2/cifar10_model_2.ipynb#W2sZmlsZQ%3D%3D?line=7'>8</a>\u001b[0m y_prob \u001b[39m=\u001b[39m model\u001b[39m.\u001b[39mpredict(test_images, verbose\u001b[39m=\u001b[39m\u001b[39m2\u001b[39m)\n",
            "\u001b[1;31mModuleNotFoundError\u001b[0m: No module named 'plotting'"
          ]
        }
      ],
      "source": [
        "from sklearn.metrics import confusion_matrix, classification_report, cohen_kappa_score\n",
        "import numpy as np\n",
        "\n",
        "from plotting import roc_plot, plot_history, cm_plot\n",
        "\n",
        "plot_history(history)\n",
        "\n",
        "y_prob = model.predict(test_images, verbose=2)\n",
        "y_pred = np.argmax(y_prob, axis=1)\n",
        "\n",
        "roc_plot(test_labels, y_prob, class_names)\n",
        "print(cohen_kappa_score(test_labels.squeeze(), y_pred))\n",
        "print(classification_report(test_labels, y_pred, target_names=class_names))\n",
        "cm_plot(confusion_matrix(test_labels, y_pred), class_names)"
      ]
    }
  ],
  "metadata": {
    "accelerator": "GPU",
    "colab": {
      "gpuType": "T4",
      "provenance": []
    },
    "kernelspec": {
      "display_name": "Python 3",
      "name": "python3"
    },
    "language_info": {
      "codemirror_mode": {
        "name": "ipython",
        "version": 3
      },
      "file_extension": ".py",
      "mimetype": "text/x-python",
      "name": "python",
      "nbconvert_exporter": "python",
      "pygments_lexer": "ipython3",
      "version": "3.11.4"
    },
    "orig_nbformat": 4
  },
  "nbformat": 4,
  "nbformat_minor": 0
}
